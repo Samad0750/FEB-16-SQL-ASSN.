{
 "cells": [
  {
   "cell_type": "markdown",
   "id": "4c92a6df-ea80-4a9c-b68d-c92df74788ec",
   "metadata": {},
   "source": [
    "QUESTION 1\n",
    "\n",
    "A database is an organized collection of data, so that it can be easily accessed and managed.\n",
    "\n",
    "SQL databases are primarily called Relational Databases (RDBMS); whereas NoSQL databases are primarily called non-relational or distributed databases.\n",
    "\n",
    "SQL databases are table-based on the other hand NoSQL databases are either key-value pairs, document-based, graph databases, or wide-column stores."
   ]
  },
  {
   "cell_type": "markdown",
   "id": "e15248c3-a1e1-4836-98d0-9517e840ca5b",
   "metadata": {},
   "source": [
    "QUESTION 2\n",
    "\n",
    "Data Definition Language(DDL) is a subset of SQL and a part of DBMS(Database Management System).\n",
    "\n",
    "\n",
    "CREATE TABLE test_table(c1 INT , c2 VARCHAR(50) , c3 FLOAT) ;\n",
    "\n",
    "ALTER TABLE test_table ADD(c4 INT); \n",
    "\n",
    "TRUNCATE TABLE test_table;\n",
    "\n",
    "DROP TABLE test_table\n",
    "\n",
    "\n"
   ]
  },
  {
   "cell_type": "markdown",
   "id": "7d5c530a-d7fd-4d21-9a51-fdc245eba16e",
   "metadata": {},
   "source": [
    "QUESTION 3\n",
    "\n",
    "DML STANDS FOR DATA MANIPULATION LANGUAGE.\n",
    "\n",
    "The INSERT statement introduces new rows into an existing table.\n",
    "\n",
    "The DELETE statement removes a row or combination of rows from a table.\n",
    "\n",
    "The UPDATE statement enables users to update a row or group of rows in a table."
   ]
  },
  {
   "cell_type": "markdown",
   "id": "2d8684f1-5159-410e-a411-125eb4fc4e41",
   "metadata": {},
   "source": [
    "QUETION 4\n",
    "\n",
    "DQL (Data Query Language) Command in SQL\n",
    "DQL or data query language is to perform the query on the data inside the schema or object (ie table, index, view, function, etc). With the help of a DQL query, we can get the data from the database to perform actions or operations like analyzing the data\n",
    "\n",
    "SELECT * FROM TABLENAME"
   ]
  },
  {
   "cell_type": "markdown",
   "id": "2ca31a74-14fa-43c6-9be8-378c3ae0f5bf",
   "metadata": {},
   "source": [
    "QUESTION 5\n",
    "\n",
    "A primary key generally focuses on the uniqueness of the table. It assures the value in the specific column is unique. A foreign key is generally used to build a relationship between the two tables. The table allows only one primary key."
   ]
  },
  {
   "cell_type": "markdown",
   "id": "84c90af7-da8a-4e78-b2dd-a49547a4ce05",
   "metadata": {},
   "source": [
    "QUESTION 6\n",
    "\n",
    "import mysql.connector\n",
    "mydb = mysql.connector.connect(\n",
    "  host=\"localhost\",\n",
    "  user=\"abc\",\n",
    "  password=\"password\"\n",
    ")\n",
    "mycursor = mydb.cursor()\n",
    "mycursor.execute('OPERATION')\n",
    "\n",
    "\n"
   ]
  },
  {
   "cell_type": "markdown",
   "id": "4a6beb7e-a3dc-4cd3-b551-bf7bc58a7b9e",
   "metadata": {},
   "source": [
    "QUESTION 7\n",
    "\n",
    "\n",
    "Order\t Clause\t         Function\n",
    "\n",
    "1         FROM\t        Tables are joined to get the base data.\n",
    "\n",
    "2\t      WHERE\t        The base data is filtered.\n",
    "\n",
    "3\t    GROUP BY        The filtered base data is grouped.\n",
    "\n",
    "4\t     HAVING\t        The grouped base data is filtered."
   ]
  },
  {
   "cell_type": "code",
   "execution_count": null,
   "id": "4779225a-92cc-4139-877f-4737831ca786",
   "metadata": {},
   "outputs": [],
   "source": []
  }
 ],
 "metadata": {
  "kernelspec": {
   "display_name": "Python 3 (ipykernel)",
   "language": "python",
   "name": "python3"
  },
  "language_info": {
   "codemirror_mode": {
    "name": "ipython",
    "version": 3
   },
   "file_extension": ".py",
   "mimetype": "text/x-python",
   "name": "python",
   "nbconvert_exporter": "python",
   "pygments_lexer": "ipython3",
   "version": "3.10.8"
  }
 },
 "nbformat": 4,
 "nbformat_minor": 5
}
